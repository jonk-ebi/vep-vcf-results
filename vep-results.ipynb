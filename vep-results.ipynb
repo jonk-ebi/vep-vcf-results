{
 "cells": [
  {
   "cell_type": "markdown",
   "id": "63f58a63-3041-4071-8321-5f47e4f1c3cb",
   "metadata": {},
   "source": [
    "## Vep results VCF details\n",
    "\n",
    "![Vep results design](design.png)\n",
    "\n",
    "To run this notebook yourself you will need juypter hub `pip install jupyterlab`, vcfpy `pip install vcfpy`, and a vep results vcf file. \n",
    "\n",
    "This notebook was generated using `/nfs/production/*/*/web/newsite-vep/vep-output-phase1-options-plus-con.vcf`\n",
    "\n",
    "[VEP design XD](https://xd.adobe.com/view/2e253ea8-6bd8-4efa-ad39-dc65f9eb01bd-7b76/screen/802e46d2-1597-4821-ad78-20b392e5d925/?fullscreen)"
   ]
  },
  {
   "cell_type": "code",
   "execution_count": 1,
   "id": "6af8c5ee-66b6-4999-be6e-1ab73ddd0e0d",
   "metadata": {},
   "outputs": [],
   "source": [
    "import vcfpy\n",
    "import json\n",
    "\n",
    "def pretty_obj(d):\n",
    "    print(json.dumps(d, sort_keys=True, indent=4))"
   ]
  },
  {
   "cell_type": "markdown",
   "id": "0ce77677-fb30-4e91-aaca-63f70ed7e062",
   "metadata": {},
   "source": [
    "[vcfpy](https://vcfpy.readthedocs.io/en/stable/index.html) is the python module used by variation to parse VCF files.\n",
    "\n",
    "The main object used is  [record](https://vcfpy.readthedocs.io/en/stable/api_record.html)\n",
    "\n",
    "For varient we should use `record.ID` which is an array of zero or more Ids. If there are no ids we should show `.`. In the design we show RS ids, but it has been confirmed that we should show whatever the use provided in their input VCF \n"
   ]
  },
  {
   "cell_type": "code",
   "execution_count": 2,
   "id": "cd91b6ba-db1e-4823-9c71-6af047d86b06",
   "metadata": {},
   "outputs": [],
   "source": [
    "def open_vcf(): #You can only iterate once through a vcf\n",
    "    vcf_file = \"vep-output-phase1-options-plus-con.vcf\"\n",
    "    return vcfpy.Reader.from_path(vcf_file)"
   ]
  },
  {
   "cell_type": "code",
   "execution_count": 19,
   "id": "9f69f0a5-5a35-446f-b0fe-f613e90364c4",
   "metadata": {},
   "outputs": [
    {
     "name": "stdout",
     "output_type": "stream",
     "text": [
      "ID\tREF\tLocation\tAlt\n",
      ".\tC\tchr1982663\tT\tNone\n",
      ".\tT\tchr1982828\tA\tNone\n",
      ".\tC\tchr1982866\tT\tNone\n",
      ".\tT\tchr1983371\tC\tNone\n",
      ".\tA\tchr1983452\tG\tNone\n",
      ".\tC\tchr1984187\tT\tNone\n",
      ".\tT\tchr1984299\tC\tNone\n",
      ".\tG\tchr1984652\tA\tNone\n",
      ".\tC\tchr1985276\tA\tNone\n",
      ".\tA\tchr19243500\tG\tNone\n"
     ]
    }
   ],
   "source": [
    "records = open_vcf()\n",
    "counter = 0\n",
    "print(\"ID\\tREF\\tLocation\\tAlt\")\n",
    "\n",
    "for rec in records:\n",
    "    id = \".\"\n",
    "    if len(rec.ID) > 0:\n",
    "        id = \", \".join(rec.ID) #VCF supports multiple semicolon delimited ids\n",
    "        \n",
    "    print(f\"{id}\\t{rec.REF}\\t{rec.CHROM}{rec.begin}\\t{', '.join([alt.value for alt in rec.ALT])}\\t{rec.end}\")\n",
    "\n",
    "    counter += 1\n",
    "    if counter >= 10:\n",
    "        break\n"
   ]
  },
  {
   "cell_type": "markdown",
   "id": "c8a03820-44c4-46b0-865c-118305fe55fc",
   "metadata": {},
   "source": [
    "- Most of the data we want is found in the INFO column of the VCF in a value called CSQ.\n",
    "- There will be a CSQ entry for every ALT allele in a given record.\n",
    "- The CSQ is `|` pipe delimited with null values showing as empty `||`.\n",
    "- values can contain multiple results. They are delimited by an ampersand &\n",
    "\n"
   ]
  },
  {
   "cell_type": "code",
   "execution_count": 4,
   "id": "03895693-663e-4e5a-9128-ada659de9acb",
   "metadata": {},
   "outputs": [
    {
     "name": "stdout",
     "output_type": "stream",
     "text": [
      "Consequence annotations from Ensembl VEP. Format: Allele|Consequence|IMPACT|SYMBOL|Gene|Feature_type|Feature|BIOTYPE|EXON|INTRON|HGVSc|HGVSp|cDNA_position|CDS_position|Protein_position|Amino_acids|Codons|Existing_variation|REF_ALLELE|UPLOADED_ALLELE|DISTANCE|STRAND|FLAGS|SYMBOL_SOURCE|HGNC_ID|CANONICAL|SIFT|PolyPhen|AF|CLIN_SIG|SOMATIC|PHENO|MOTIF_NAME|MOTIF_POS|HIGH_INF_POS|MOTIF_SCORE_CHANGE|TRANSCRIPTION_FACTORS\n"
     ]
    }
   ],
   "source": [
    "reader = open_vcf()\n",
    "print(reader.header.get_info_field_info(\"CSQ\").description)\n"
   ]
  },
  {
   "cell_type": "code",
   "execution_count": 5,
   "id": "5c16c527-02de-43f4-b4c4-3931798a48ec",
   "metadata": {},
   "outputs": [
    {
     "name": "stdout",
     "output_type": "stream",
     "text": [
      "[\n",
      "    \"Allele\",\n",
      "    \"Consequence\",\n",
      "    \"IMPACT\",\n",
      "    \"SYMBOL\",\n",
      "    \"Gene\",\n",
      "    \"Feature_type\",\n",
      "    \"Feature\",\n",
      "    \"BIOTYPE\",\n",
      "    \"EXON\",\n",
      "    \"INTRON\",\n",
      "    \"HGVSc\",\n",
      "    \"HGVSp\",\n",
      "    \"cDNA_position\",\n",
      "    \"CDS_position\",\n",
      "    \"Protein_position\",\n",
      "    \"Amino_acids\",\n",
      "    \"Codons\",\n",
      "    \"Existing_variation\",\n",
      "    \"REF_ALLELE\",\n",
      "    \"UPLOADED_ALLELE\",\n",
      "    \"DISTANCE\",\n",
      "    \"STRAND\",\n",
      "    \"FLAGS\",\n",
      "    \"SYMBOL_SOURCE\",\n",
      "    \"HGNC_ID\",\n",
      "    \"CANONICAL\",\n",
      "    \"SIFT\",\n",
      "    \"PolyPhen\",\n",
      "    \"AF\",\n",
      "    \"CLIN_SIG\",\n",
      "    \"SOMATIC\",\n",
      "    \"PHENO\",\n",
      "    \"MOTIF_NAME\",\n",
      "    \"MOTIF_POS\",\n",
      "    \"HIGH_INF_POS\",\n",
      "    \"MOTIF_SCORE_CHANGE\",\n",
      "    \"TRANSCRIPTION_FACTORS\"\n",
      "]\n"
     ]
    }
   ],
   "source": [
    "reader = open_vcf()\n",
    "csq_header_str = reader.header.get_info_field_info(\"CSQ\").description.split(\":\")[-1].strip()\n",
    "csq_headers = csq_header_str.split(\"|\")\n",
    "pretty_obj(csq_headers)\n",
    "\n",
    "def csq_obj(headers,values):  \n",
    "    return {headers[x]:values[x] for x in range(0,len(headers))}"
   ]
  },
  {
   "cell_type": "markdown",
   "id": "aea205e4-9cee-47eb-9bf9-497f9dd539c4",
   "metadata": {},
   "source": [
    "The values found in the CSQ will change depending on the options selected during VEP. Some values will always be present. We should check this header to ensure we are looking in the correct index before pulling out the values"
   ]
  },
  {
   "cell_type": "markdown",
   "id": "d3ff9884-735f-426f-84b1-8d46c68c7e8a",
   "metadata": {},
   "source": [
    "Predicted molecular consequence can be found in `Consequence`. This is a multi value field so you will need to split by '&' if present"
   ]
  },
  {
   "cell_type": "code",
   "execution_count": 6,
   "id": "0e0172bb-0699-4995-97d0-74aeb60a95fe",
   "metadata": {},
   "outputs": [
    {
     "name": "stdout",
     "output_type": "stream",
     "text": [
      "Predicted molecular consequence & alt allele frequency\n",
      "\n",
      "A\tchr19243500\tG\n",
      "intron_variant, non_coding_transcript_variant\t0.3730\n",
      "A\tchr19243500\tG\n",
      "upstream_gene_variant\t0.3730\n",
      "A\tchr19243500\tG\n",
      "upstream_gene_variant\t0.3730\n",
      "A\tchr19243500\tG\n",
      "intron_variant, non_coding_transcript_variant\t0.3730\n",
      "A\tchr19243500\tG\n",
      "intron_variant, non_coding_transcript_variant\t0.3730\n",
      "A\tchr19243500\tG\n",
      "regulatory_region_variant\t0.3730\n"
     ]
    }
   ],
   "source": [
    "print(\"Predicted molecular consequence & alt allele frequency\\n\")\n",
    "\n",
    "reader = open_vcf()\n",
    "\n",
    "found = False\n",
    "for rec in reader:\n",
    "    for str_csq in rec.INFO[\"CSQ\"]:\n",
    "        csq_dict = csq_obj(csq_headers,str_csq.split(\"|\"))\n",
    "        if csq_dict['AF']:\n",
    "            print(f\"{rec.REF}\\t{rec.CHROM}{rec.begin}\\t{', '.join([alt.value for alt in rec.ALT])}\")\n",
    "            print(f\"{', '.join(csq_dict['Consequence'].split('&'))}\\t{csq_dict['AF']}\")      \n",
    "            found = True\n",
    "            #break\n",
    "    if found:\n",
    "        break"
   ]
  },
  {
   "cell_type": "code",
   "execution_count": 7,
   "id": "72b00ea6-601d-4d48-afb6-d187c0e28161",
   "metadata": {},
   "outputs": [
    {
     "name": "stdout",
     "output_type": "stream",
     "text": [
      "{\n",
      "    \"AF\": \"\",\n",
      "    \"Allele\": \"T\",\n",
      "    \"Amino_acids\": \"\",\n",
      "    \"BIOTYPE\": \"lncRNA\",\n",
      "    \"CANONICAL\": \"YES\",\n",
      "    \"CDS_position\": \"\",\n",
      "    \"CLIN_SIG\": \"\",\n",
      "    \"Codons\": \"\",\n",
      "    \"Consequence\": \"upstream_gene_variant\",\n",
      "    \"DISTANCE\": \"4978\",\n",
      "    \"EXON\": \"\",\n",
      "    \"Existing_variation\": \"rs868831437\",\n",
      "    \"FLAGS\": \"\",\n",
      "    \"Feature\": \"ENST00000631376.1\",\n",
      "    \"Feature_type\": \"Transcript\",\n",
      "    \"Gene\": \"ENSG00000282591\",\n",
      "    \"HGNC_ID\": \"HGNC:33581\",\n",
      "    \"HGVSc\": \"\",\n",
      "    \"HGVSp\": \"\",\n",
      "    \"HIGH_INF_POS\": \"\",\n",
      "    \"IMPACT\": \"MODIFIER\",\n",
      "    \"INTRON\": \"\",\n",
      "    \"MOTIF_NAME\": \"\",\n",
      "    \"MOTIF_POS\": \"\",\n",
      "    \"MOTIF_SCORE_CHANGE\": \"\",\n",
      "    \"PHENO\": \"\",\n",
      "    \"PolyPhen\": \"\",\n",
      "    \"Protein_position\": \"\",\n",
      "    \"REF_ALLELE\": \"C\",\n",
      "    \"SIFT\": \"\",\n",
      "    \"SOMATIC\": \"\",\n",
      "    \"STRAND\": \"-1\",\n",
      "    \"SYMBOL\": \"FAM138F\",\n",
      "    \"SYMBOL_SOURCE\": \"HGNC\",\n",
      "    \"TRANSCRIPTION_FACTORS\": \"\",\n",
      "    \"UPLOADED_ALLELE\": \"C/T\",\n",
      "    \"cDNA_position\": \"\"\n",
      "}\n"
     ]
    }
   ],
   "source": [
    "reader = open_vcf()\n",
    "\n",
    "for rec in reader:\n",
    "    csq_dict = csq_obj(csq_headers,rec.INFO[\"CSQ\"][0].split(\"|\"))\n",
    "    pretty_obj(csq_dict)\n",
    "    break\n",
    "        "
   ]
  },
  {
   "cell_type": "markdown",
   "id": "d971c48a-cc00-4192-be06-af07b671bf9a",
   "metadata": {},
   "source": [
    "Gene & regulation features and transcripts\n",
    "\n",
    "`Feature` and `Feature_type` hold details for both features and transcripts. It was agreed in the web variation catch up that anything with a `Feature_type` of `Transcript` will go in the transcript column for the design. Everything else should do in the features column\n",
    "\n",
    "For transcripts we also show the `BIOTYPE`"
   ]
  },
  {
   "cell_type": "code",
   "execution_count": 8,
   "id": "8a4fc49d-3380-4c87-a99a-7fc886e462bd",
   "metadata": {},
   "outputs": [
    {
     "name": "stdout",
     "output_type": "stream",
     "text": [
      "Transcripts\n",
      "C\tchr1982663\tT\n",
      "ENST00000631376.1\tlncRNA\tYES\n"
     ]
    }
   ],
   "source": [
    "print(\"Transcripts\")\n",
    "\n",
    "reader = open_vcf()\n",
    "\n",
    "found = False\n",
    "for rec in reader:\n",
    "    for str_csq in rec.INFO[\"CSQ\"]:\n",
    "        csq_dict = csq_obj(csq_headers,str_csq.split(\"|\"))\n",
    "        if csq_dict['Feature'] and csq_dict['Feature_type'] == \"Transcript\":\n",
    "            print(f\"{rec.REF}\\t{rec.CHROM}{rec.begin}\\t{', '.join([alt.value for alt in rec.ALT])}\")\n",
    "            print(f\"{csq_dict['Feature']}\\t{csq_dict['BIOTYPE']}\\t{csq_dict['CANONICAL']}\")      \n",
    "            found = True\n",
    "            break\n",
    "    if found:\n",
    "        break"
   ]
  },
  {
   "cell_type": "markdown",
   "id": "8ff603d8-40bd-4db4-902e-94647bd37a96",
   "metadata": {},
   "source": [
    "For features we show `SYMBOL` if we have it, `Feature`, `BIOTYPE` if we have it and if there is no `SYMBOL`, and finally `STRAND` providing it is either 1 (`forward strand`) or -1 (`reverse strand`). We need `CANONICAL` for ordering the transcripts. Using 'YES' as our top transcript"
   ]
  },
  {
   "cell_type": "code",
   "execution_count": 9,
   "id": "888c17d3-c332-4df5-9271-d6b5acbaa6f0",
   "metadata": {},
   "outputs": [
    {
     "name": "stdout",
     "output_type": "stream",
     "text": [
      "Features\n",
      "A\tchr19243500\tG\n",
      "Feature:ENSR00001020616 Biotype:enhancer\n",
      "C\tchr19267212\tT\n",
      "Feature:ENSM00201890131 Strand: 1\n"
     ]
    }
   ],
   "source": [
    "print(\"Features\")\n",
    "\n",
    "reader = open_vcf()\n",
    "\n",
    "found_g = 0\n",
    "found_b = 0\n",
    "found_s = 0\n",
    "for rec in reader:\n",
    "    for str_csq in rec.INFO[\"CSQ\"]:\n",
    "        csq_dict = csq_obj(csq_headers,str_csq.split(\"|\"))\n",
    "        if csq_dict['Feature'] and csq_dict['Feature_type'] != \"Transcript\":  \n",
    "            if csq_dict['SYMBOL'] and found_g == 0:\n",
    "                print(f\"{rec.REF}\\t{rec.CHROM}{rec.begin}\\t{', '.join([alt.value for alt in rec.ALT])}\")\n",
    "                print(f\"Feature:{csq_dict['Feature']} Gene:{csq_dict['SYMBOL']}\")\n",
    "                found_g = 1\n",
    "            if csq_dict['BIOTYPE'] and found_b == 0:\n",
    "                print(f\"{rec.REF}\\t{rec.CHROM}{rec.begin}\\t{', '.join([alt.value for alt in rec.ALT])}\")\n",
    "                print(f\"Feature:{csq_dict['Feature']} Biotype:{csq_dict['BIOTYPE']}\")\n",
    "                found_b = 1\n",
    "            if csq_dict['STRAND'] and found_s == 0:\n",
    "                print(f\"{rec.REF}\\t{rec.CHROM}{rec.begin}\\t{', '.join([alt.value for alt in rec.ALT])}\")\n",
    "                print(f\"Feature:{csq_dict['Feature']} Strand: {csq_dict['STRAND']}\")\n",
    "                found_s = 1\n",
    "\n",
    "\n",
    "    if found_g + found_b + found_s == 3:\n",
    "        break"
   ]
  },
  {
   "cell_type": "markdown",
   "id": "744a0fa8-057b-4f13-9c1e-7ce3cd788c05",
   "metadata": {},
   "source": [
    "We only seem to have gene symbols for transcript feature types!"
   ]
  },
  {
   "cell_type": "code",
   "execution_count": 10,
   "id": "a0963ff4-7be0-4f1a-a512-7dbd979652a5",
   "metadata": {},
   "outputs": [
    {
     "name": "stdout",
     "output_type": "stream",
     "text": [
      "Alt alleles 2 CSQ entries 2-------------------\n",
      "GTGTGTGTGTGT\tENST00000251287.3\tTranscript\tHCN2\n",
      "-\tENST00000251287.3\tTranscript\tHCN2\n",
      "Alt alleles 2 CSQ entries 8-------------------\n",
      "GTGTGT\tENST00000251287.3\tTranscript\tHCN2\n",
      "-\tENST00000251287.3\tTranscript\tHCN2\n",
      "GTGTGT\tENST00000587057.5\tTranscript\tPOLRMT\n",
      "-\tENST00000587057.5\tTranscript\tPOLRMT\n",
      "GTGTGT\tENST00000588649.7\tTranscript\tPOLRMT\n",
      "-\tENST00000588649.7\tTranscript\tPOLRMT\n",
      "GTGTGT\tENST00000592633.5\tTranscript\tPOLRMT\n",
      "-\tENST00000592633.5\tTranscript\tPOLRMT\n",
      "Alt alleles 2 CSQ entries 10-------------------\n",
      "ACAC\tENST00000588649.7\tTranscript\tPOLRMT\n",
      "ACACACACACACAC\tENST00000588649.7\tTranscript\tPOLRMT\n",
      "ACAC\tENST00000590573.4\tTranscript\tPOLRMT\n",
      "ACACACACACACAC\tENST00000590573.4\tTranscript\tPOLRMT\n",
      "ACAC\tENST00000590709.3\tTranscript\tPOLRMT\n",
      "ACACACACACACAC\tENST00000590709.3\tTranscript\tPOLRMT\n",
      "ACAC\tENST00000592863.2\tTranscript\tPOLRMT\n",
      "ACACACACACACAC\tENST00000592863.2\tTranscript\tPOLRMT\n",
      "ACAC\tENSR00001219077\tRegulatoryFeature\t\n",
      "ACACACACACACAC\tENSR00001219077\tRegulatoryFeature\t\n",
      "Alt alleles 2 CSQ entries 10-------------------\n",
      "CGCACA\tENST00000166139.9\tTranscript\tFSTL3\n",
      "CGCGCGCGCACACACACA\tENST00000166139.9\tTranscript\tFSTL3\n",
      "CGCACA\tENST00000589185.2\tTranscript\tFSTL3\n",
      "CGCGCGCGCACACACACA\tENST00000589185.2\tTranscript\tFSTL3\n",
      "CGCACA\tENST00000592058.3\tTranscript\tFSTL3\n",
      "CGCGCGCGCACACACACA\tENST00000592058.3\tTranscript\tFSTL3\n",
      "CGCACA\tENSR00000581415\tRegulatoryFeature\t\n",
      "CGCGCGCGCACACACACA\tENSR00000581415\tRegulatoryFeature\t\n",
      "CGCACA\tENSM00206435716\tMotifFeature\t\n",
      "CGCGCGCGCACACACACA\tENSM00206435716\tMotifFeature\t\n",
      "Alt alleles 2 CSQ entries 2-------------------\n",
      "T\t\t\t\n",
      "-\t\t\t\n"
     ]
    }
   ],
   "source": [
    "reader = open_vcf()\n",
    "\n",
    "counter = 0\n",
    "for rec in reader:\n",
    "    if len(rec.ALT) > 1:\n",
    "        print(f\"Alt alleles {len(rec.ALT)} CSQ entries {len(rec.INFO['CSQ'])}-------------------\")\n",
    "        counter += 1\n",
    "        for str_csq in rec.INFO[\"CSQ\"]:\n",
    "            csq_dict = csq_obj(csq_headers,str_csq.split(\"|\"))\n",
    "            print(f\"{csq_dict['Allele']}\\t{csq_dict['Feature']}\\t{csq_dict['Feature_type']}\\t{csq_dict['SYMBOL']}\")\n",
    "        \n",
    "        if counter > 4:\n",
    "            break"
   ]
  },
  {
   "cell_type": "markdown",
   "id": "cea3f15b-d6ca-48e2-8eb8-b91fc2eb5c9d",
   "metadata": {},
   "source": [
    "Need to look here to figure out this https://github.com/Ensembl/ensembl-hypsipyle/blob/main/common/schemas/predicted_molecular_consequence.graphql. -> Implemented by variant-allele -> create_allele_predicted_molecular_consequence @ 147. \n",
    "\n",
    "**This method only operates on feature_type transcript!**\n",
    "\n",
    "Looking again I believe the gene and regulation feature column is populated with elements from feature_type `transcript`\n",
    "\n",
    "For a feature type of `transcript` use `SYMBOL` `Gene` `STRAND` for the feature section.\n",
    "\n",
    "Something else is shown if `SYMBOL` is missing. I currently can not locate it. I thought it might be `IMPACT` but the only value I could see in the example is `MODIFIER`. However it also seems to be missing from https://github.com/Ensembl/ensembl-web-tools-api/blob/dev/APISpecification.yaml\n",
    "\n",
    "Nakib from the Variation team shared the following insight \n",
    "\n",
    "> That value enhancer , motif are particular to feature types `RegulatoryFeature` , `MotifFeature` and you can find them under `BIOTYPE` field. So, according to current design you have to fill those spot using the `BIOTYPE` for those feature types.\n",
    "\n",
    "> Although I remember Sarah mentioning we would have gene associated with regulatory/motif features in future and would also have gene symbols in such case. Probably a design change would require (having separate column for regulatory/motif features most likely)\n"
   ]
  },
  {
   "cell_type": "code",
   "execution_count": 11,
   "id": "df012028-2522-4920-a20d-0a5278a44bb5",
   "metadata": {},
   "outputs": [
    {
     "name": "stdout",
     "output_type": "stream",
     "text": [
      "Alt alleles 2 CSQ entries 2-------------------\n",
      "GTGTGTGTGTGT\tHCN2\tENSG00000099822\t1\tMODIFIER\n",
      "Alt alleles 2 CSQ entries 8-------------------\n",
      "GTGTGT\tHCN2\tENSG00000099822\t1\tMODIFIER\n",
      "GTGTGT\tPOLRMT\tENSG00000099821\t-1\tMODIFIER\n",
      "GTGTGT\tPOLRMT\tENSG00000099821\t-1\tMODIFIER\n",
      "GTGTGT\tPOLRMT\tENSG00000099821\t-1\tMODIFIER\n",
      "Alt alleles 2 CSQ entries 10-------------------\n",
      "ACAC\tPOLRMT\tENSG00000099821\t-1\tMODIFIER\n",
      "ACACACACACACAC\tPOLRMT\tENSG00000099821\t-1\tMODIFIER\n",
      "ACAC\tPOLRMT\tENSG00000099821\t-1\tMODIFIER\n",
      "ACACACACACACAC\tPOLRMT\tENSG00000099821\t-1\tMODIFIER\n",
      "ACAC\tPOLRMT\tENSG00000099821\t-1\tMODIFIER\n",
      "ACACACACACACAC\tPOLRMT\tENSG00000099821\t-1\tMODIFIER\n",
      "ACAC\tPOLRMT\tENSG00000099821\t-1\tMODIFIER\n",
      "ACACACACACACAC\tPOLRMT\tENSG00000099821\t-1\tMODIFIER\n",
      "Alt alleles 2 CSQ entries 10-------------------\n",
      "CGCACA\tFSTL3\tENSG00000070404\t1\tMODIFIER\n",
      "CGCGCGCGCACACACACA\tFSTL3\tENSG00000070404\t1\tMODIFIER\n",
      "CGCACA\tFSTL3\tENSG00000070404\t1\tMODIFIER\n",
      "CGCGCGCGCACACACACA\tFSTL3\tENSG00000070404\t1\tMODIFIER\n",
      "CGCACA\tFSTL3\tENSG00000070404\t1\tMODIFIER\n",
      "CGCGCGCGCACACACACA\tFSTL3\tENSG00000070404\t1\tMODIFIER\n",
      "Alt alleles 2 CSQ entries 2-------------------\n",
      "Alt alleles 2 CSQ entries 4-------------------\n",
      "ATAATAATA\tAZU1\tENSG00000172232\t1\tMODIFIER\n",
      "ATAATAATA\tAZU1\tENSG00000172232\t1\tMODIFIER\n",
      "Alt alleles 2 CSQ entries 4-------------------\n",
      "ATCCTCTG\tPRTN3\tENSG00000196415\t1\tMODIFIER\n",
      "G\tPRTN3\tENSG00000196415\t1\tMODIFIER\n",
      "ATCCTCTG\tPRTN3\tENSG00000196415\t1\tMODIFIER\n",
      "G\tPRTN3\tENSG00000196415\t1\tMODIFIER\n",
      "Alt alleles 2 CSQ entries 22-------------------\n",
      "GT\tGRIN3B\tENSG00000116032\t1\tMODIFIER\n",
      "GT\tWDR18\tENSG00000065268\t1\tMODIFIER\n",
      "GT\tWDR18\tENSG00000065268\t1\tMODIFIER\n",
      "GT\tWDR18\tENSG00000065268\t1\tMODIFIER\n",
      "GT\t\tENSG00000266990\t-1\tMODIFIER\n",
      "GT\tWDR18\tENSG00000065268\t1\tMODIFIER\n",
      "GT\tWDR18\tENSG00000065268\t1\tMODIFIER\n",
      "GT\tWDR18\tENSG00000065268\t1\tMODIFIER\n",
      "GT\tWDR18\tENSG00000065268\t1\tMODIFIER\n",
      "GT\tWDR18\tENSG00000065268\t1\tMODIFIER\n",
      "Alt alleles 2 CSQ entries 30-------------------\n",
      "AAAAT\tCNN2\tENSG00000064666\t1\tMODIFIER\n",
      "AAAAT\tTMEM259\tENSG00000182087\t-1\tMODIFIER\n",
      "AAAAT\tCNN2\tENSG00000064666\t1\tMODIFIER\n",
      "AAAAT\tTMEM259\tENSG00000182087\t-1\tMODIFIER\n",
      "AAAAT\tRNU6-2\tENSG00000207357\t1\tMODIFIER\n",
      "AAAAT\tCNN2\tENSG00000064666\t1\tMODIFIER\n",
      "AAAAT\tCNN2\tENSG00000064666\t1\tMODIFIER\n",
      "AAAAT\tCNN2\tENSG00000064666\t1\tMODIFIER\n",
      "AAAAT\tCNN2\tENSG00000064666\t1\tMODIFIER\n",
      "AAAAT\tCNN2\tENSG00000064666\t1\tMODIFIER\n",
      "AAAAT\tCNN2\tENSG00000064666\t1\tMODIFIER\n",
      "AAAAT\tTMEM259\tENSG00000182087\t-1\tMODIFIER\n",
      "AAAAT\tTMEM259\tENSG00000182087\t-1\tMODIFIER\n",
      "AAAAT\tCNN2\tENSG00000064666\t1\tMODIFIER\n",
      "AAAAT\tCNN2\tENSG00000064666\t1\tMODIFIER\n",
      "Alt alleles 2 CSQ entries 30-------------------\n",
      "TT\tCNN2\tENSG00000064666\t1\tMODIFIER\n",
      "TT\tTMEM259\tENSG00000182087\t-1\tMODIFIER\n",
      "TT\tCNN2\tENSG00000064666\t1\tMODIFIER\n",
      "TT\tTMEM259\tENSG00000182087\t-1\tMODIFIER\n",
      "TT\tRNU6-2\tENSG00000207357\t1\tMODIFIER\n",
      "TT\tCNN2\tENSG00000064666\t1\tMODIFIER\n",
      "TT\tCNN2\tENSG00000064666\t1\tMODIFIER\n",
      "TT\tCNN2\tENSG00000064666\t1\tMODIFIER\n",
      "TT\tCNN2\tENSG00000064666\t1\tMODIFIER\n",
      "TT\tCNN2\tENSG00000064666\t1\tMODIFIER\n",
      "TT\tCNN2\tENSG00000064666\t1\tMODIFIER\n",
      "TT\tTMEM259\tENSG00000182087\t-1\tMODIFIER\n",
      "TT\tTMEM259\tENSG00000182087\t-1\tMODIFIER\n",
      "TT\tCNN2\tENSG00000064666\t1\tMODIFIER\n",
      "TT\tCNN2\tENSG00000064666\t1\tMODIFIER\n",
      "Alt alleles 2 CSQ entries 12-------------------\n",
      "T\tSBNO2\tENSG00000064932\t-1\tMODIFIER\n",
      "T\tSTK11\tENSG00000118046\t1\tMODIFIER\n",
      "T\tSBNO2\tENSG00000064932\t-1\tMODIFIER\n",
      "T\tSBNO2\tENSG00000064932\t-1\tMODIFIER\n",
      "T\tSBNO2\tENSG00000064932\t-1\tMODIFIER\n"
     ]
    }
   ],
   "source": [
    "reader = open_vcf()\n",
    "\n",
    "counter = 0\n",
    "for rec in reader:\n",
    "    if len(rec.ALT) > 1:\n",
    "        print(f\"Alt alleles {len(rec.ALT)} CSQ entries {len(rec.INFO['CSQ'])}-------------------\")\n",
    "        counter += 1\n",
    "        for str_csq in rec.INFO[\"CSQ\"]:\n",
    "            csq_dict = csq_obj(csq_headers,str_csq.split(\"|\"))\n",
    "            if csq_dict['Feature_type'] == \"Transcript\" and csq_dict['Allele'] != \"-\": \n",
    "                print(f\"{csq_dict['Allele']}\\t{csq_dict['SYMBOL']}\\t{csq_dict['Gene']}\\t{csq_dict['STRAND']}\\t{csq_dict['IMPACT']}\")\n",
    "        \n",
    "        if counter > 10:\n",
    "            break"
   ]
  },
  {
   "cell_type": "markdown",
   "id": "dbd1341d-072b-4aa9-9ede-a8295948d8b5",
   "metadata": {},
   "source": [
    "Do we get null STRAND for transcript types?"
   ]
  },
  {
   "cell_type": "code",
   "execution_count": 12,
   "id": "ca5542ca-14c0-4436-bbad-cbd61553a175",
   "metadata": {},
   "outputs": [
    {
     "name": "stdout",
     "output_type": "stream",
     "text": [
      "{'-1', '1'}\n"
     ]
    }
   ],
   "source": [
    "reader = open_vcf()\n",
    "\n",
    "counter = 0\n",
    "unique_strand_values = set()\n",
    "for rec in reader:\n",
    "    for str_csq in rec.INFO[\"CSQ\"]:\n",
    "        csq_dict = csq_obj(csq_headers,str_csq.split(\"|\"))\n",
    "        if csq_dict[\"Feature_type\"] == \"Transcript\":\n",
    "            unique_strand_values.add(csq_dict['STRAND'])\n",
    "    \n",
    "print(unique_strand_values)"
   ]
  },
  {
   "cell_type": "code",
   "execution_count": 13,
   "id": "06c84f45-a5ae-4ad0-98a0-1b89ed478efb",
   "metadata": {},
   "outputs": [
    {
     "name": "stdout",
     "output_type": "stream",
     "text": [
      "Max alt allele size\n",
      "For CGTGTGTGTGTGT, C the longest alt is 13\n"
     ]
    }
   ],
   "source": [
    "print(\"Max alt allele size\")\n",
    "\n",
    "reader = open_vcf()\n",
    "\n",
    "for rec in reader:\n",
    "    if len(rec.ALT) > 1:\n",
    "        longest_alt = len(max([a.value for a in rec.ALT], key=len))\n",
    "        alts = \", \".join([a.value for a in rec.ALT])\n",
    "        print(f\"For {alts} the longest alt is {longest_alt}\")\n",
    "        break"
   ]
  },
  {
   "cell_type": "code",
   "execution_count": 17,
   "id": "15cb19e4-fcd2-44aa-b4af-e62de711f34a",
   "metadata": {},
   "outputs": [
    {
     "name": "stdout",
     "output_type": "stream",
     "text": [
      "Unique feature types\n",
      "{'Transcript', '', 'RegulatoryFeature', 'MotifFeature'}\n"
     ]
    }
   ],
   "source": [
    "print(\"Unique feature types\")\n",
    "reader = open_vcf()\n",
    "\n",
    "counter = 0\n",
    "unique_features_values = set()\n",
    "for rec in reader:\n",
    "\n",
    "    \n",
    "    for str_csq in rec.INFO[\"CSQ\"]:\n",
    "        csq_dict = csq_obj(csq_headers,str_csq.split(\"|\"))\n",
    "        unique_features_values.add(csq_dict['Feature_type'])\n",
    "    \n",
    "print(unique_features_values)\n"
   ]
  },
  {
   "cell_type": "code",
   "execution_count": 24,
   "id": "c40ca21c-81a2-4de7-abc2-c6ece852228f",
   "metadata": {},
   "outputs": [
    {
     "name": "stdout",
     "output_type": "stream",
     "text": [
      "intergenic_variant\n",
      "intergenic_variant Allele:A\tGene Symbol:\tGene:\tFeature_type:\n",
      "intergenic_variant Allele:T\tGene Symbol:\tGene:\tFeature_type:\n",
      "intergenic_variant Allele:C\tGene Symbol:\tGene:\tFeature_type:\n",
      "intergenic_variant Allele:G\tGene Symbol:\tGene:\tFeature_type:\n",
      "intergenic_variant Allele:T\tGene Symbol:\tGene:\tFeature_type:\n",
      "intergenic_variant Allele:C\tGene Symbol:\tGene:\tFeature_type:\n",
      "intergenic_variant Allele:A\tGene Symbol:\tGene:\tFeature_type:\n",
      "intergenic_variant Allele:A\tGene Symbol:\tGene:\tFeature_type:\n",
      "intergenic_variant Allele:G\tGene Symbol:\tGene:\tFeature_type:\n",
      "intergenic_variant Allele:C\tGene Symbol:\tGene:\tFeature_type:\n",
      "intergenic_variant Allele:A\tGene Symbol:\tGene:\tFeature_type:\n"
     ]
    }
   ],
   "source": [
    "print(\"intergenic_variant\")\n",
    "reader = open_vcf()\n",
    "count = 0\n",
    "for rec in reader:\n",
    "    for str_csq in rec.INFO[\"CSQ\"]:\n",
    "        csq_dict = csq_obj(csq_headers,str_csq.split(\"|\"))\n",
    "        cons = csq_dict['Consequence'].split('&')\n",
    "        \n",
    "        if \"intergenic_variant\" in cons:\n",
    "            print(f\"intergenic_variant Allele:{csq_dict['Allele']}\\tGene Symbol:{csq_dict['SYMBOL']}\\tGene:{csq_dict['Gene']}\\tFeature_type:{csq_dict['Feature_type']}\")\n",
    "            count += 1\n",
    "    if count > 10: \n",
    "        break\n",
    "    \n"
   ]
  },
  {
   "cell_type": "code",
   "execution_count": null,
   "id": "bca38197-0bfe-4ee3-992b-b1315016c905",
   "metadata": {},
   "outputs": [],
   "source": []
  }
 ],
 "metadata": {
  "kernelspec": {
   "display_name": "Python 3 (ipykernel)",
   "language": "python",
   "name": "python3"
  },
  "language_info": {
   "codemirror_mode": {
    "name": "ipython",
    "version": 3
   },
   "file_extension": ".py",
   "mimetype": "text/x-python",
   "name": "python",
   "nbconvert_exporter": "python",
   "pygments_lexer": "ipython3",
   "version": "3.11.0"
  }
 },
 "nbformat": 4,
 "nbformat_minor": 5
}
