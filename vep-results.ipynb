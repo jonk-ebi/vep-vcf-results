{
 "cells": [
  {
   "cell_type": "markdown",
   "id": "63f58a63-3041-4071-8321-5f47e4f1c3cb",
   "metadata": {},
   "source": [
    "## Vep results VCF details\n",
    "\n",
    "![Vep results design](design.png)"
   ]
  },
  {
   "cell_type": "code",
   "execution_count": 5,
   "id": "6af8c5ee-66b6-4999-be6e-1ab73ddd0e0d",
   "metadata": {},
   "outputs": [],
   "source": [
    "import vcfpy\n",
    "import json\n",
    "\n",
    "def pretty_obj(d):\n",
    "    print(json.dumps(d, sort_keys=True, indent=4))"
   ]
  },
  {
   "cell_type": "markdown",
   "id": "0ce77677-fb30-4e91-aaca-63f70ed7e062",
   "metadata": {},
   "source": [
    "[vcfpy](https://vcfpy.readthedocs.io/en/stable/index.html) is the python module used by variation to parse VCF files.\n",
    "\n",
    "The main object used is  [record](https://vcfpy.readthedocs.io/en/stable/api_record.html)\n",
    "\n",
    "For varient we should use `record.ID` which is an array of zero or more Ids. If there are no ids we should show `.`. In the design we show RS ids, but it has been confirmed that we should show whatever the use provided in their input VCF \n"
   ]
  },
  {
   "cell_type": "code",
   "execution_count": 6,
   "id": "cd91b6ba-db1e-4823-9c71-6af047d86b06",
   "metadata": {},
   "outputs": [],
   "source": [
    "def open_vcf(): #You can only iterate once a vcf\n",
    "    vcf_file = \"vep-output-example-without-phase1-options.vcf\"\n",
    "    return vcfpy.Reader.from_path(vcf_file)"
   ]
  },
  {
   "cell_type": "code",
   "execution_count": 7,
   "id": "9f69f0a5-5a35-446f-b0fe-f613e90364c4",
   "metadata": {},
   "outputs": [
    {
     "name": "stdout",
     "output_type": "stream",
     "text": [
      "ID\tREF\tLocation\tAlt\n",
      ".\tC\tchr1982663\tT\n",
      ".\tT\tchr1982828\tA\n",
      ".\tC\tchr1982866\tT\n",
      ".\tT\tchr1983371\tC\n",
      ".\tA\tchr1983452\tG\n",
      ".\tC\tchr1984187\tT\n",
      ".\tT\tchr1984299\tC\n",
      ".\tG\tchr1984652\tA\n",
      ".\tC\tchr1985276\tA\n",
      ".\tA\tchr19243500\tG\n"
     ]
    }
   ],
   "source": [
    "records = open_vcf()\n",
    "counter = 0\n",
    "print(\"ID\\tREF\\tLocation\\tAlt\")\n",
    "\n",
    "for rec in records:\n",
    "    id = \".\"\n",
    "    if len(rec.ID) > 0:\n",
    "        id = \", \".join(rec.ID) #VCF supports multiple semicolon delimited ids\n",
    "        \n",
    "    print(f\"{id}\\t{rec.REF}\\t{rec.CHROM}{rec.begin}\\t{', '.join([alt.value for alt in rec.ALT])}\")\n",
    "\n",
    "    counter += 1\n",
    "    if counter >= 10:\n",
    "        break\n"
   ]
  },
  {
   "cell_type": "markdown",
   "id": "c8a03820-44c4-46b0-865c-118305fe55fc",
   "metadata": {},
   "source": [
    "- Most of the data we want is found in the INFO column of the VCF in a value called CSQ.\n",
    "- There will be a CSQ entry for every ALT allele in a given record.\n",
    "- The CSQ is `|` pipe delimited with null values showing as empty `||`.\n",
    "- values can contain multiple results. They are delimited by an ampersand &\n",
    "\n"
   ]
  },
  {
   "cell_type": "code",
   "execution_count": 8,
   "id": "03895693-663e-4e5a-9128-ada659de9acb",
   "metadata": {},
   "outputs": [
    {
     "name": "stdout",
     "output_type": "stream",
     "text": [
      "Consequence annotations from Ensembl VEP. Format: Allele|Consequence|IMPACT|SYMBOL|Gene|Feature_type|Feature|BIOTYPE|EXON|INTRON|HGVSc|HGVSp|cDNA_position|CDS_position|Protein_position|Amino_acids|Codons|Existing_variation|REF_ALLELE|UPLOADED_ALLELE|DISTANCE|STRAND|FLAGS|SYMBOL_SOURCE|HGNC_ID|MANE_SELECT|MANE_PLUS_CLINICAL|TSL|APPRIS|CCDS|ENSP|SWISSPROT|TREMBL|UNIPARC|UNIPROT_ISOFORM|SIFT|PolyPhen|HGVS_OFFSET|AF|AFR_AF|AMR_AF|EAS_AF|EUR_AF|SAS_AF|gnomADe_AF|gnomADe_AFR_AF|gnomADe_AMR_AF|gnomADe_ASJ_AF|gnomADe_EAS_AF|gnomADe_FIN_AF|gnomADe_NFE_AF|gnomADe_OTH_AF|gnomADe_SAS_AF|gnomADg_AF|gnomADg_AFR_AF|gnomADg_AMI_AF|gnomADg_AMR_AF|gnomADg_ASJ_AF|gnomADg_EAS_AF|gnomADg_FIN_AF|gnomADg_MID_AF|gnomADg_NFE_AF|gnomADg_OTH_AF|gnomADg_SAS_AF|CLIN_SIG|SOMATIC|PHENO|PUBMED|VAR_SYNONYMS|MOTIF_NAME|MOTIF_POS|HIGH_INF_POS|MOTIF_SCORE_CHANGE|TRANSCRIPTION_FACTORS|pHaplo|pTriplo|OpenTargets_geneId|OpenTargets_l2g\n"
     ]
    }
   ],
   "source": [
    "reader = open_vcf()\n",
    "print(reader.header.get_info_field_info(\"CSQ\").description)\n"
   ]
  },
  {
   "cell_type": "code",
   "execution_count": 9,
   "id": "5c16c527-02de-43f4-b4c4-3931798a48ec",
   "metadata": {},
   "outputs": [
    {
     "name": "stdout",
     "output_type": "stream",
     "text": [
      "[\n",
      "    \"Allele\",\n",
      "    \"Consequence\",\n",
      "    \"IMPACT\",\n",
      "    \"SYMBOL\",\n",
      "    \"Gene\",\n",
      "    \"Feature_type\",\n",
      "    \"Feature\",\n",
      "    \"BIOTYPE\",\n",
      "    \"EXON\",\n",
      "    \"INTRON\",\n",
      "    \"HGVSc\",\n",
      "    \"HGVSp\",\n",
      "    \"cDNA_position\",\n",
      "    \"CDS_position\",\n",
      "    \"Protein_position\",\n",
      "    \"Amino_acids\",\n",
      "    \"Codons\",\n",
      "    \"Existing_variation\",\n",
      "    \"REF_ALLELE\",\n",
      "    \"UPLOADED_ALLELE\",\n",
      "    \"DISTANCE\",\n",
      "    \"STRAND\",\n",
      "    \"FLAGS\",\n",
      "    \"SYMBOL_SOURCE\",\n",
      "    \"HGNC_ID\",\n",
      "    \"MANE_SELECT\",\n",
      "    \"MANE_PLUS_CLINICAL\",\n",
      "    \"TSL\",\n",
      "    \"APPRIS\",\n",
      "    \"CCDS\",\n",
      "    \"ENSP\",\n",
      "    \"SWISSPROT\",\n",
      "    \"TREMBL\",\n",
      "    \"UNIPARC\",\n",
      "    \"UNIPROT_ISOFORM\",\n",
      "    \"SIFT\",\n",
      "    \"PolyPhen\",\n",
      "    \"HGVS_OFFSET\",\n",
      "    \"AF\",\n",
      "    \"AFR_AF\",\n",
      "    \"AMR_AF\",\n",
      "    \"EAS_AF\",\n",
      "    \"EUR_AF\",\n",
      "    \"SAS_AF\",\n",
      "    \"gnomADe_AF\",\n",
      "    \"gnomADe_AFR_AF\",\n",
      "    \"gnomADe_AMR_AF\",\n",
      "    \"gnomADe_ASJ_AF\",\n",
      "    \"gnomADe_EAS_AF\",\n",
      "    \"gnomADe_FIN_AF\",\n",
      "    \"gnomADe_NFE_AF\",\n",
      "    \"gnomADe_OTH_AF\",\n",
      "    \"gnomADe_SAS_AF\",\n",
      "    \"gnomADg_AF\",\n",
      "    \"gnomADg_AFR_AF\",\n",
      "    \"gnomADg_AMI_AF\",\n",
      "    \"gnomADg_AMR_AF\",\n",
      "    \"gnomADg_ASJ_AF\",\n",
      "    \"gnomADg_EAS_AF\",\n",
      "    \"gnomADg_FIN_AF\",\n",
      "    \"gnomADg_MID_AF\",\n",
      "    \"gnomADg_NFE_AF\",\n",
      "    \"gnomADg_OTH_AF\",\n",
      "    \"gnomADg_SAS_AF\",\n",
      "    \"CLIN_SIG\",\n",
      "    \"SOMATIC\",\n",
      "    \"PHENO\",\n",
      "    \"PUBMED\",\n",
      "    \"VAR_SYNONYMS\",\n",
      "    \"MOTIF_NAME\",\n",
      "    \"MOTIF_POS\",\n",
      "    \"HIGH_INF_POS\",\n",
      "    \"MOTIF_SCORE_CHANGE\",\n",
      "    \"TRANSCRIPTION_FACTORS\",\n",
      "    \"pHaplo\",\n",
      "    \"pTriplo\",\n",
      "    \"OpenTargets_geneId\",\n",
      "    \"OpenTargets_l2g\"\n",
      "]\n"
     ]
    }
   ],
   "source": [
    "reader = open_vcf()\n",
    "csq_header_str = reader.header.get_info_field_info(\"CSQ\").description.split(\":\")[-1].strip()\n",
    "csq_headers = csq_header_str.split(\"|\")\n",
    "pretty_obj(csq_headers)\n",
    "\n",
    "def csq_obj(headers,values):  \n",
    "    return {headers[x]:values[x] for x in range(0,len(headers))}"
   ]
  },
  {
   "cell_type": "markdown",
   "id": "aea205e4-9cee-47eb-9bf9-497f9dd539c4",
   "metadata": {},
   "source": [
    "The values found in the CSQ will change depending on the options selected during VEP. Some values will always be present. We should check this header to ensure we are looking in the correct index before pulling out "
   ]
  },
  {
   "cell_type": "markdown",
   "id": "d3ff9884-735f-426f-84b1-8d46c68c7e8a",
   "metadata": {},
   "source": [
    "Predicted molecular consequence can be found in `Consequence`. This is a multi value field so you will need to split by '&' if present"
   ]
  },
  {
   "cell_type": "code",
   "execution_count": 10,
   "id": "0e0172bb-0699-4995-97d0-74aeb60a95fe",
   "metadata": {},
   "outputs": [
    {
     "name": "stdout",
     "output_type": "stream",
     "text": [
      "Predicted molecular consequence & alt allele frequency\n",
      "\n",
      "A\tchr19243500\tG\n",
      "intron_variant, non_coding_transcript_variant\t0.3730\n"
     ]
    }
   ],
   "source": [
    "print(\"Predicted molecular consequence & alt allele frequency\\n\")\n",
    "\n",
    "reader = open_vcf()\n",
    "\n",
    "found = False\n",
    "for rec in reader:\n",
    "    for str_csq in rec.INFO[\"CSQ\"]:\n",
    "        csq_dict = csq_obj(csq_headers,str_csq.split(\"|\"))\n",
    "        if csq_dict['AF']:\n",
    "            print(f\"{rec.REF}\\t{rec.CHROM}{rec.begin}\\t{', '.join([alt.value for alt in rec.ALT])}\")\n",
    "            print(f\"{', '.join(csq_dict['Consequence'].split('&'))}\\t{csq_dict['AF']}\")      \n",
    "            found = True\n",
    "            break\n",
    "    if found:\n",
    "        break\n",
    "\n",
    "\n"
   ]
  },
  {
   "cell_type": "code",
   "execution_count": 11,
   "id": "72b00ea6-601d-4d48-afb6-d187c0e28161",
   "metadata": {},
   "outputs": [
    {
     "name": "stdout",
     "output_type": "stream",
     "text": [
      "{\n",
      "    \"AF\": \"\",\n",
      "    \"AFR_AF\": \"\",\n",
      "    \"AMR_AF\": \"\",\n",
      "    \"APPRIS\": \"\",\n",
      "    \"Allele\": \"T\",\n",
      "    \"Amino_acids\": \"\",\n",
      "    \"BIOTYPE\": \"lncRNA\",\n",
      "    \"CCDS\": \"\",\n",
      "    \"CDS_position\": \"\",\n",
      "    \"CLIN_SIG\": \"\",\n",
      "    \"Codons\": \"\",\n",
      "    \"Consequence\": \"upstream_gene_variant\",\n",
      "    \"DISTANCE\": \"4978\",\n",
      "    \"EAS_AF\": \"\",\n",
      "    \"ENSP\": \"\",\n",
      "    \"EUR_AF\": \"\",\n",
      "    \"EXON\": \"\",\n",
      "    \"Existing_variation\": \"rs868831437\",\n",
      "    \"FLAGS\": \"\",\n",
      "    \"Feature\": \"ENST00000631376.1\",\n",
      "    \"Feature_type\": \"Transcript\",\n",
      "    \"Gene\": \"ENSG00000282591\",\n",
      "    \"HGNC_ID\": \"HGNC:33581\",\n",
      "    \"HGVS_OFFSET\": \"\",\n",
      "    \"HGVSc\": \"\",\n",
      "    \"HGVSp\": \"\",\n",
      "    \"HIGH_INF_POS\": \"\",\n",
      "    \"IMPACT\": \"MODIFIER\",\n",
      "    \"INTRON\": \"\",\n",
      "    \"MANE_PLUS_CLINICAL\": \"\",\n",
      "    \"MANE_SELECT\": \"\",\n",
      "    \"MOTIF_NAME\": \"\",\n",
      "    \"MOTIF_POS\": \"\",\n",
      "    \"MOTIF_SCORE_CHANGE\": \"\",\n",
      "    \"OpenTargets_geneId\": \"\",\n",
      "    \"OpenTargets_l2g\": \"\",\n",
      "    \"PHENO\": \"\",\n",
      "    \"PUBMED\": \"\",\n",
      "    \"PolyPhen\": \"\",\n",
      "    \"Protein_position\": \"\",\n",
      "    \"REF_ALLELE\": \"C\",\n",
      "    \"SAS_AF\": \"\",\n",
      "    \"SIFT\": \"\",\n",
      "    \"SOMATIC\": \"\",\n",
      "    \"STRAND\": \"-1\",\n",
      "    \"SWISSPROT\": \"\",\n",
      "    \"SYMBOL\": \"FAM138F\",\n",
      "    \"SYMBOL_SOURCE\": \"HGNC\",\n",
      "    \"TRANSCRIPTION_FACTORS\": \"\",\n",
      "    \"TREMBL\": \"\",\n",
      "    \"TSL\": \"1\",\n",
      "    \"UNIPARC\": \"\",\n",
      "    \"UNIPROT_ISOFORM\": \"\",\n",
      "    \"UPLOADED_ALLELE\": \"C/T\",\n",
      "    \"VAR_SYNONYMS\": \"\",\n",
      "    \"cDNA_position\": \"\",\n",
      "    \"gnomADe_AF\": \"\",\n",
      "    \"gnomADe_AFR_AF\": \"\",\n",
      "    \"gnomADe_AMR_AF\": \"\",\n",
      "    \"gnomADe_ASJ_AF\": \"\",\n",
      "    \"gnomADe_EAS_AF\": \"\",\n",
      "    \"gnomADe_FIN_AF\": \"\",\n",
      "    \"gnomADe_NFE_AF\": \"\",\n",
      "    \"gnomADe_OTH_AF\": \"\",\n",
      "    \"gnomADe_SAS_AF\": \"\",\n",
      "    \"gnomADg_AF\": \"\",\n",
      "    \"gnomADg_AFR_AF\": \"\",\n",
      "    \"gnomADg_AMI_AF\": \"\",\n",
      "    \"gnomADg_AMR_AF\": \"\",\n",
      "    \"gnomADg_ASJ_AF\": \"\",\n",
      "    \"gnomADg_EAS_AF\": \"\",\n",
      "    \"gnomADg_FIN_AF\": \"\",\n",
      "    \"gnomADg_MID_AF\": \"\",\n",
      "    \"gnomADg_NFE_AF\": \"\",\n",
      "    \"gnomADg_OTH_AF\": \"\",\n",
      "    \"gnomADg_SAS_AF\": \"\",\n",
      "    \"pHaplo\": \"\",\n",
      "    \"pTriplo\": \"\"\n",
      "}\n"
     ]
    }
   ],
   "source": [
    "reader = open_vcf()\n",
    "\n",
    "for rec in reader:\n",
    "    csq_dict = csq_obj(csq_headers,rec.INFO[\"CSQ\"][0].split(\"|\"))\n",
    "    pretty_obj(csq_dict)\n",
    "    break\n",
    "        "
   ]
  },
  {
   "cell_type": "markdown",
   "id": "d971c48a-cc00-4192-be06-af07b671bf9a",
   "metadata": {},
   "source": [
    "Gene & regulation features and transcripts\n",
    "\n",
    "`Feature` and `Feature_type` hold details for both features and transcripts. It was agreed in the web variation catch up that anything with a `Feature_type` of `Transcript` will go in the transcript column for the design. Everything else should do in the features column\n",
    "\n",
    "For transcripts we also show the `BIOTYPE`"
   ]
  },
  {
   "cell_type": "code",
   "execution_count": 12,
   "id": "8a4fc49d-3380-4c87-a99a-7fc886e462bd",
   "metadata": {},
   "outputs": [
    {
     "name": "stdout",
     "output_type": "stream",
     "text": [
      "Transcripts\n",
      "C\tchr1982663\tT\n",
      "ENST00000631376.1\tlncRNA\n"
     ]
    }
   ],
   "source": [
    "print(\"Transcripts\")\n",
    "\n",
    "reader = open_vcf()\n",
    "\n",
    "found = False\n",
    "for rec in reader:\n",
    "    for str_csq in rec.INFO[\"CSQ\"]:\n",
    "        csq_dict = csq_obj(csq_headers,str_csq.split(\"|\"))\n",
    "        if csq_dict['Feature'] and csq_dict['Feature_type'] == \"Transcript\":\n",
    "            print(f\"{rec.REF}\\t{rec.CHROM}{rec.begin}\\t{', '.join([alt.value for alt in rec.ALT])}\")\n",
    "            print(f\"{csq_dict['Feature']}\\t{csq_dict['BIOTYPE']}\")      \n",
    "            found = True\n",
    "            break\n",
    "    if found:\n",
    "        break"
   ]
  },
  {
   "cell_type": "markdown",
   "id": "8ff603d8-40bd-4db4-902e-94647bd37a96",
   "metadata": {},
   "source": [
    "For features we show `SYMBOL` if we have it, `Feature`, `BIOTYPE` if we have it and there is no gene, and finally `STRAND` providing it is either 1 (`forward strand`) or -1 (`reverse strand`)"
   ]
  },
  {
   "cell_type": "code",
   "execution_count": 13,
   "id": "888c17d3-c332-4df5-9271-d6b5acbaa6f0",
   "metadata": {},
   "outputs": [
    {
     "name": "stdout",
     "output_type": "stream",
     "text": [
      "Features\n",
      "A\tchr19243500\tG\n",
      "Feature:ENSR00001020616 Biotype:enhancer\n",
      "C\tchr19267212\tT\n",
      "Feature:ENSM00201890131 Strand: 1\n"
     ]
    }
   ],
   "source": [
    "print(\"Features\")\n",
    "\n",
    "reader = open_vcf()\n",
    "\n",
    "found_g = 0\n",
    "found_b = 0\n",
    "found_s = 0\n",
    "for rec in reader:\n",
    "    for str_csq in rec.INFO[\"CSQ\"]:\n",
    "        csq_dict = csq_obj(csq_headers,str_csq.split(\"|\"))\n",
    "        if csq_dict['Feature'] and csq_dict['Feature_type'] != \"Transcript\":\n",
    "            \n",
    "            if csq_dict['Gene'] and found_g == 0:\n",
    "                print(f\"{rec.REF}\\t{rec.CHROM}{rec.begin}\\t{', '.join([alt.value for alt in rec.ALT])}\")\n",
    "                print(f\"Feature:{csq_dict['Feature']} Gene:{csq_dict['SYMBOL']}\")\n",
    "                found_g = 1\n",
    "            if csq_dict['BIOTYPE'] and found_b == 0:\n",
    "                print(f\"{rec.REF}\\t{rec.CHROM}{rec.begin}\\t{', '.join([alt.value for alt in rec.ALT])}\")\n",
    "                print(f\"Feature:{csq_dict['Feature']} Biotype:{csq_dict['BIOTYPE']}\")\n",
    "                found_b = 1\n",
    "            if csq_dict['STRAND'] and found_s == 0:\n",
    "                print(f\"{rec.REF}\\t{rec.CHROM}{rec.begin}\\t{', '.join([alt.value for alt in rec.ALT])}\")\n",
    "                print(f\"Feature:{csq_dict['Feature']} Strand: {csq_dict['STRAND']}\")\n",
    "                found_s = 1\n",
    "\n",
    "\n",
    "    if found_g + found_b + found_s == 3:\n",
    "        break"
   ]
  },
  {
   "cell_type": "code",
   "execution_count": null,
   "id": "765c383a-e8be-431e-9849-c9c45d2728d4",
   "metadata": {},
   "outputs": [],
   "source": []
  }
 ],
 "metadata": {
  "kernelspec": {
   "display_name": "Python 3 (ipykernel)",
   "language": "python",
   "name": "python3"
  },
  "language_info": {
   "codemirror_mode": {
    "name": "ipython",
    "version": 3
   },
   "file_extension": ".py",
   "mimetype": "text/x-python",
   "name": "python",
   "nbconvert_exporter": "python",
   "pygments_lexer": "ipython3",
   "version": "3.11.0"
  }
 },
 "nbformat": 4,
 "nbformat_minor": 5
}
